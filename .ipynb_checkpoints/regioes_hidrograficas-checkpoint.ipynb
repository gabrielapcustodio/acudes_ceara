{
 "cells": [
  {
   "cell_type": "markdown",
   "metadata": {
    "id": "miKxHEK9oe4f"
   },
   "source": [
    "# Análise dos dados dos reservatórios cearenses no dia 26 de maio de 2023, comparando com o ano anterior"
   ]
  },
  {
   "cell_type": "code",
   "execution_count": 1,
   "metadata": {
    "id": "EH71eblQhJHP"
   },
   "outputs": [],
   "source": [
    "import pandas as pd"
   ]
  },
  {
   "cell_type": "code",
   "execution_count": 2,
   "metadata": {
    "id": "WRAHYbW4izQz"
   },
   "outputs": [],
   "source": [
    "path = 'bases/'"
   ]
  },
  {
   "cell_type": "code",
   "execution_count": 51,
   "metadata": {
    "id": "a6yXm0SCjGPU"
   },
   "outputs": [],
   "source": [
    "regioes = ['Acaraú', 'Alto Jaguaribe', 'Baixo Jaguaribe', 'Banabuiú', 'Coreaú', 'Curu', 'Litoral',\n",
    "           'Médio Jaguaribe', 'Metropolitana', 'Serra da Ibiapaba', 'Salgado', 'Sertões de Crateús']"
   ]
  },
  {
   "cell_type": "code",
   "execution_count": 5,
   "metadata": {
    "id": "SfJYJxoYjjqr"
   },
   "outputs": [],
   "source": [
    "lista_df = []\n",
    "for i in regioes:\n",
    "    df = pd.read_csv(path + f'{i}_26-05_2022,_26-05_2023,.csv', sep=';')\n",
    "    df['regiao'] = i\n",
    "    lista_df.append(df)\n",
    "\n",
    "df_regioes = pd.concat(lista_df)"
   ]
  },
  {
   "cell_type": "code",
   "execution_count": 6,
   "metadata": {
    "id": "r5bn28oPjxg1"
   },
   "outputs": [],
   "source": [
    "df_regioes_pivot = df_regioes[df_regioes['data'].isin(['26/05/2022', '26/05/2023'])].pivot_table(index='regiao', columns='data')"
   ]
  },
  {
   "cell_type": "code",
   "execution_count": 7,
   "metadata": {
    "colab": {
     "base_uri": "https://localhost:8080/",
     "height": 488
    },
    "executionInfo": {
     "elapsed": 28,
     "status": "ok",
     "timestamp": 1685146935366,
     "user": {
      "displayName": "Gabriela Custódio",
      "userId": "17879241500396315997"
     },
     "user_tz": 180
    },
    "id": "h6zYn_FVvsDq",
    "outputId": "5b68c167-1bbe-4776-db63-ad9e2b6e948d"
   },
   "outputs": [
    {
     "data": {
      "text/html": [
       "<div>\n",
       "<style scoped>\n",
       "    .dataframe tbody tr th:only-of-type {\n",
       "        vertical-align: middle;\n",
       "    }\n",
       "\n",
       "    .dataframe tbody tr th {\n",
       "        vertical-align: top;\n",
       "    }\n",
       "\n",
       "    .dataframe thead tr th {\n",
       "        text-align: left;\n",
       "    }\n",
       "\n",
       "    .dataframe thead tr:last-of-type th {\n",
       "        text-align: right;\n",
       "    }\n",
       "</style>\n",
       "<table border=\"1\" class=\"dataframe\">\n",
       "  <thead>\n",
       "    <tr>\n",
       "      <th></th>\n",
       "      <th colspan=\"2\" halign=\"left\">volume(%)</th>\n",
       "      <th colspan=\"2\" halign=\"left\">volume(hm³)</th>\n",
       "    </tr>\n",
       "    <tr>\n",
       "      <th>data</th>\n",
       "      <th>26/05/2022</th>\n",
       "      <th>26/05/2023</th>\n",
       "      <th>26/05/2022</th>\n",
       "      <th>26/05/2023</th>\n",
       "    </tr>\n",
       "    <tr>\n",
       "      <th>regiao</th>\n",
       "      <th></th>\n",
       "      <th></th>\n",
       "      <th></th>\n",
       "      <th></th>\n",
       "    </tr>\n",
       "  </thead>\n",
       "  <tbody>\n",
       "    <tr>\n",
       "      <th>Acaraú</th>\n",
       "      <td>86.055978</td>\n",
       "      <td>93.502078</td>\n",
       "      <td>1469.634229</td>\n",
       "      <td>1596.796148</td>\n",
       "    </tr>\n",
       "    <tr>\n",
       "      <th>Alto Jaguaribe</th>\n",
       "      <td>48.943697</td>\n",
       "      <td>65.405453</td>\n",
       "      <td>1353.620472</td>\n",
       "      <td>1808.898094</td>\n",
       "    </tr>\n",
       "    <tr>\n",
       "      <th>Baixo Jaguaribe</th>\n",
       "      <td>90.696481</td>\n",
       "      <td>100.000000</td>\n",
       "      <td>22.720279</td>\n",
       "      <td>25.050893</td>\n",
       "    </tr>\n",
       "    <tr>\n",
       "      <th>Banabuiú</th>\n",
       "      <td>9.819895</td>\n",
       "      <td>41.652078</td>\n",
       "      <td>262.642798</td>\n",
       "      <td>1114.025996</td>\n",
       "    </tr>\n",
       "    <tr>\n",
       "      <th>Coreaú</th>\n",
       "      <td>95.097300</td>\n",
       "      <td>97.925092</td>\n",
       "      <td>284.747315</td>\n",
       "      <td>293.214496</td>\n",
       "    </tr>\n",
       "    <tr>\n",
       "      <th>Curu</th>\n",
       "      <td>21.088796</td>\n",
       "      <td>37.767146</td>\n",
       "      <td>222.732918</td>\n",
       "      <td>398.884159</td>\n",
       "    </tr>\n",
       "    <tr>\n",
       "      <th>Litoral</th>\n",
       "      <td>77.230891</td>\n",
       "      <td>98.418255</td>\n",
       "      <td>159.134926</td>\n",
       "      <td>202.791674</td>\n",
       "    </tr>\n",
       "    <tr>\n",
       "      <th>Metropolitana</th>\n",
       "      <td>81.813450</td>\n",
       "      <td>82.557901</td>\n",
       "      <td>1187.040592</td>\n",
       "      <td>1197.841921</td>\n",
       "    </tr>\n",
       "    <tr>\n",
       "      <th>Médio Jaguaribe</th>\n",
       "      <td>22.348554</td>\n",
       "      <td>31.430828</td>\n",
       "      <td>1647.980818</td>\n",
       "      <td>2317.707082</td>\n",
       "    </tr>\n",
       "    <tr>\n",
       "      <th>Salgado</th>\n",
       "      <td>58.606684</td>\n",
       "      <td>68.583042</td>\n",
       "      <td>262.359754</td>\n",
       "      <td>307.020104</td>\n",
       "    </tr>\n",
       "    <tr>\n",
       "      <th>Serra da Ibiapaba</th>\n",
       "      <td>60.775595</td>\n",
       "      <td>72.461935</td>\n",
       "      <td>85.283408</td>\n",
       "      <td>101.682275</td>\n",
       "    </tr>\n",
       "    <tr>\n",
       "      <th>Sertões de Crateús</th>\n",
       "      <td>21.329525</td>\n",
       "      <td>31.552439</td>\n",
       "      <td>87.872622</td>\n",
       "      <td>129.988623</td>\n",
       "    </tr>\n",
       "  </tbody>\n",
       "</table>\n",
       "</div>"
      ],
      "text/plain": [
       "                    volume(%)              volume(hm³)             \n",
       "data               26/05/2022  26/05/2023   26/05/2022   26/05/2023\n",
       "regiao                                                             \n",
       "Acaraú              86.055978   93.502078  1469.634229  1596.796148\n",
       "Alto Jaguaribe      48.943697   65.405453  1353.620472  1808.898094\n",
       "Baixo Jaguaribe     90.696481  100.000000    22.720279    25.050893\n",
       "Banabuiú             9.819895   41.652078   262.642798  1114.025996\n",
       "Coreaú              95.097300   97.925092   284.747315   293.214496\n",
       "Curu                21.088796   37.767146   222.732918   398.884159\n",
       "Litoral             77.230891   98.418255   159.134926   202.791674\n",
       "Metropolitana       81.813450   82.557901  1187.040592  1197.841921\n",
       "Médio Jaguaribe     22.348554   31.430828  1647.980818  2317.707082\n",
       "Salgado             58.606684   68.583042   262.359754   307.020104\n",
       "Serra da Ibiapaba   60.775595   72.461935    85.283408   101.682275\n",
       "Sertões de Crateús  21.329525   31.552439    87.872622   129.988623"
      ]
     },
     "execution_count": 7,
     "metadata": {},
     "output_type": "execute_result"
    }
   ],
   "source": [
    "df_regioes_pivot"
   ]
  },
  {
   "cell_type": "code",
   "execution_count": 10,
   "metadata": {
    "id": "Nnx8-4dIlhcj"
   },
   "outputs": [],
   "source": [
    "df_regioes_volume_perc = df_regioes_pivot[[('volume(%)', '26/05/2022'), ('volume(%)', '26/05/2023')]]"
   ]
  },
  {
   "cell_type": "code",
   "execution_count": 11,
   "metadata": {
    "colab": {
     "base_uri": "https://localhost:8080/",
     "height": 426
    },
    "executionInfo": {
     "elapsed": 479,
     "status": "ok",
     "timestamp": 1685147058545,
     "user": {
      "displayName": "Gabriela Custódio",
      "userId": "17879241500396315997"
     },
     "user_tz": 180
    },
    "id": "m88YkoRzllzq",
    "outputId": "15aefa71-9673-40b7-8d80-aeb5ef3aa1ea"
   },
   "outputs": [
    {
     "data": {
      "text/html": [
       "<div>\n",
       "<style scoped>\n",
       "    .dataframe tbody tr th:only-of-type {\n",
       "        vertical-align: middle;\n",
       "    }\n",
       "\n",
       "    .dataframe tbody tr th {\n",
       "        vertical-align: top;\n",
       "    }\n",
       "\n",
       "    .dataframe thead th {\n",
       "        text-align: right;\n",
       "    }\n",
       "</style>\n",
       "<table border=\"1\" class=\"dataframe\">\n",
       "  <thead>\n",
       "    <tr style=\"text-align: right;\">\n",
       "      <th>data</th>\n",
       "      <th></th>\n",
       "      <th>26/05/2022</th>\n",
       "      <th>26/05/2023</th>\n",
       "    </tr>\n",
       "  </thead>\n",
       "  <tbody>\n",
       "    <tr>\n",
       "      <th>0</th>\n",
       "      <td>Acaraú</td>\n",
       "      <td>86.055978</td>\n",
       "      <td>93.502078</td>\n",
       "    </tr>\n",
       "    <tr>\n",
       "      <th>1</th>\n",
       "      <td>Alto Jaguaribe</td>\n",
       "      <td>48.943697</td>\n",
       "      <td>65.405453</td>\n",
       "    </tr>\n",
       "    <tr>\n",
       "      <th>2</th>\n",
       "      <td>Baixo Jaguaribe</td>\n",
       "      <td>90.696481</td>\n",
       "      <td>100.000000</td>\n",
       "    </tr>\n",
       "    <tr>\n",
       "      <th>3</th>\n",
       "      <td>Banabuiú</td>\n",
       "      <td>9.819895</td>\n",
       "      <td>41.652078</td>\n",
       "    </tr>\n",
       "    <tr>\n",
       "      <th>4</th>\n",
       "      <td>Coreaú</td>\n",
       "      <td>95.097300</td>\n",
       "      <td>97.925092</td>\n",
       "    </tr>\n",
       "    <tr>\n",
       "      <th>5</th>\n",
       "      <td>Curu</td>\n",
       "      <td>21.088796</td>\n",
       "      <td>37.767146</td>\n",
       "    </tr>\n",
       "    <tr>\n",
       "      <th>6</th>\n",
       "      <td>Litoral</td>\n",
       "      <td>77.230891</td>\n",
       "      <td>98.418255</td>\n",
       "    </tr>\n",
       "    <tr>\n",
       "      <th>7</th>\n",
       "      <td>Metropolitana</td>\n",
       "      <td>81.813450</td>\n",
       "      <td>82.557901</td>\n",
       "    </tr>\n",
       "    <tr>\n",
       "      <th>8</th>\n",
       "      <td>Médio Jaguaribe</td>\n",
       "      <td>22.348554</td>\n",
       "      <td>31.430828</td>\n",
       "    </tr>\n",
       "    <tr>\n",
       "      <th>9</th>\n",
       "      <td>Salgado</td>\n",
       "      <td>58.606684</td>\n",
       "      <td>68.583042</td>\n",
       "    </tr>\n",
       "    <tr>\n",
       "      <th>10</th>\n",
       "      <td>Serra da Ibiapaba</td>\n",
       "      <td>60.775595</td>\n",
       "      <td>72.461935</td>\n",
       "    </tr>\n",
       "    <tr>\n",
       "      <th>11</th>\n",
       "      <td>Sertões de Crateús</td>\n",
       "      <td>21.329525</td>\n",
       "      <td>31.552439</td>\n",
       "    </tr>\n",
       "  </tbody>\n",
       "</table>\n",
       "</div>"
      ],
      "text/plain": [
       "data                      26/05/2022  26/05/2023\n",
       "0                 Acaraú   86.055978   93.502078\n",
       "1         Alto Jaguaribe   48.943697   65.405453\n",
       "2        Baixo Jaguaribe   90.696481  100.000000\n",
       "3               Banabuiú    9.819895   41.652078\n",
       "4                 Coreaú   95.097300   97.925092\n",
       "5                   Curu   21.088796   37.767146\n",
       "6                Litoral   77.230891   98.418255\n",
       "7          Metropolitana   81.813450   82.557901\n",
       "8        Médio Jaguaribe   22.348554   31.430828\n",
       "9                Salgado   58.606684   68.583042\n",
       "10     Serra da Ibiapaba   60.775595   72.461935\n",
       "11    Sertões de Crateús   21.329525   31.552439"
      ]
     },
     "execution_count": 11,
     "metadata": {},
     "output_type": "execute_result"
    }
   ],
   "source": [
    "df_regioes_volume_perc = df_regioes_volume_perc.reset_index()\n",
    "df_regioes_volume_perc.columns = df_regioes_volume_perc.columns.droplevel(0)\n",
    "df_regioes_volume_perc"
   ]
  },
  {
   "cell_type": "code",
   "execution_count": 12,
   "metadata": {
    "id": "VrxoZzDzlmxa"
   },
   "outputs": [],
   "source": [
    "df_regioes_volume_perc = df_regioes_volume_perc.rename(columns={'': 'regiões'})"
   ]
  },
  {
   "cell_type": "code",
   "execution_count": 13,
   "metadata": {
    "colab": {
     "base_uri": "https://localhost:8080/",
     "height": 426
    },
    "executionInfo": {
     "elapsed": 379,
     "status": "ok",
     "timestamp": 1685147147695,
     "user": {
      "displayName": "Gabriela Custódio",
      "userId": "17879241500396315997"
     },
     "user_tz": 180
    },
    "id": "SfOObRXalmzy",
    "outputId": "ff4ae0da-c8b2-4e10-deb4-79cdd704b727"
   },
   "outputs": [
    {
     "data": {
      "text/html": [
       "<div>\n",
       "<style scoped>\n",
       "    .dataframe tbody tr th:only-of-type {\n",
       "        vertical-align: middle;\n",
       "    }\n",
       "\n",
       "    .dataframe tbody tr th {\n",
       "        vertical-align: top;\n",
       "    }\n",
       "\n",
       "    .dataframe thead th {\n",
       "        text-align: right;\n",
       "    }\n",
       "</style>\n",
       "<table border=\"1\" class=\"dataframe\">\n",
       "  <thead>\n",
       "    <tr style=\"text-align: right;\">\n",
       "      <th>data</th>\n",
       "      <th>regiões</th>\n",
       "      <th>26/05/2022</th>\n",
       "      <th>26/05/2023</th>\n",
       "    </tr>\n",
       "  </thead>\n",
       "  <tbody>\n",
       "    <tr>\n",
       "      <th>2</th>\n",
       "      <td>Baixo Jaguaribe</td>\n",
       "      <td>90.696481</td>\n",
       "      <td>100.000000</td>\n",
       "    </tr>\n",
       "    <tr>\n",
       "      <th>6</th>\n",
       "      <td>Litoral</td>\n",
       "      <td>77.230891</td>\n",
       "      <td>98.418255</td>\n",
       "    </tr>\n",
       "    <tr>\n",
       "      <th>4</th>\n",
       "      <td>Coreaú</td>\n",
       "      <td>95.097300</td>\n",
       "      <td>97.925092</td>\n",
       "    </tr>\n",
       "    <tr>\n",
       "      <th>0</th>\n",
       "      <td>Acaraú</td>\n",
       "      <td>86.055978</td>\n",
       "      <td>93.502078</td>\n",
       "    </tr>\n",
       "    <tr>\n",
       "      <th>7</th>\n",
       "      <td>Metropolitana</td>\n",
       "      <td>81.813450</td>\n",
       "      <td>82.557901</td>\n",
       "    </tr>\n",
       "    <tr>\n",
       "      <th>10</th>\n",
       "      <td>Serra da Ibiapaba</td>\n",
       "      <td>60.775595</td>\n",
       "      <td>72.461935</td>\n",
       "    </tr>\n",
       "    <tr>\n",
       "      <th>9</th>\n",
       "      <td>Salgado</td>\n",
       "      <td>58.606684</td>\n",
       "      <td>68.583042</td>\n",
       "    </tr>\n",
       "    <tr>\n",
       "      <th>1</th>\n",
       "      <td>Alto Jaguaribe</td>\n",
       "      <td>48.943697</td>\n",
       "      <td>65.405453</td>\n",
       "    </tr>\n",
       "    <tr>\n",
       "      <th>3</th>\n",
       "      <td>Banabuiú</td>\n",
       "      <td>9.819895</td>\n",
       "      <td>41.652078</td>\n",
       "    </tr>\n",
       "    <tr>\n",
       "      <th>5</th>\n",
       "      <td>Curu</td>\n",
       "      <td>21.088796</td>\n",
       "      <td>37.767146</td>\n",
       "    </tr>\n",
       "    <tr>\n",
       "      <th>11</th>\n",
       "      <td>Sertões de Crateús</td>\n",
       "      <td>21.329525</td>\n",
       "      <td>31.552439</td>\n",
       "    </tr>\n",
       "    <tr>\n",
       "      <th>8</th>\n",
       "      <td>Médio Jaguaribe</td>\n",
       "      <td>22.348554</td>\n",
       "      <td>31.430828</td>\n",
       "    </tr>\n",
       "  </tbody>\n",
       "</table>\n",
       "</div>"
      ],
      "text/plain": [
       "data             regiões  26/05/2022  26/05/2023\n",
       "2        Baixo Jaguaribe   90.696481  100.000000\n",
       "6                Litoral   77.230891   98.418255\n",
       "4                 Coreaú   95.097300   97.925092\n",
       "0                 Acaraú   86.055978   93.502078\n",
       "7          Metropolitana   81.813450   82.557901\n",
       "10     Serra da Ibiapaba   60.775595   72.461935\n",
       "9                Salgado   58.606684   68.583042\n",
       "1         Alto Jaguaribe   48.943697   65.405453\n",
       "3               Banabuiú    9.819895   41.652078\n",
       "5                   Curu   21.088796   37.767146\n",
       "11    Sertões de Crateús   21.329525   31.552439\n",
       "8        Médio Jaguaribe   22.348554   31.430828"
      ]
     },
     "execution_count": 13,
     "metadata": {},
     "output_type": "execute_result"
    }
   ],
   "source": [
    "df_regioes_volume_perc.sort_values('26/05/2023', ascending=False)"
   ]
  },
  {
   "cell_type": "code",
   "execution_count": null,
   "metadata": {
    "id": "NDB_V8pklm16"
   },
   "outputs": [],
   "source": []
  },
  {
   "cell_type": "code",
   "execution_count": 14,
   "metadata": {
    "id": "7ckfe-4nkXio"
   },
   "outputs": [],
   "source": [
    "df_regioes_volume = df_regioes_pivot[[('volume(hm³)', '26/05/2022'), ('volume(hm³)', '26/05/2023')]]"
   ]
  },
  {
   "cell_type": "code",
   "execution_count": 15,
   "metadata": {
    "id": "fMbcpjKjo_z4"
   },
   "outputs": [],
   "source": [
    "dados_2023 = df_regioes_volume[('volume(hm³)', '26/05/2023')]\n",
    "dados_2022 = df_regioes_volume[('volume(hm³)', '26/05/2022')]"
   ]
  },
  {
   "cell_type": "code",
   "execution_count": 16,
   "metadata": {
    "colab": {
     "base_uri": "https://localhost:8080/"
    },
    "executionInfo": {
     "elapsed": 27,
     "status": "ok",
     "timestamp": 1685146935367,
     "user": {
      "displayName": "Gabriela Custódio",
      "userId": "17879241500396315997"
     },
     "user_tz": 180
    },
    "id": "uZw8W9MHnYQ5",
    "outputId": "b5d9809e-2fc8-42e8-fcfc-3728d4faa3de"
   },
   "outputs": [
    {
     "name": "stderr",
     "output_type": "stream",
     "text": [
      "C:\\Users\\55859\\AppData\\Local\\Temp/ipykernel_11736/1701327465.py:1: SettingWithCopyWarning: \n",
      "A value is trying to be set on a copy of a slice from a DataFrame.\n",
      "Try using .loc[row_indexer,col_indexer] = value instead\n",
      "\n",
      "See the caveats in the documentation: https://pandas.pydata.org/pandas-docs/stable/user_guide/indexing.html#returning-a-view-versus-a-copy\n",
      "  df_regioes_volume[('volume(hm³)', 'pct_change_2022_2023')] = round((dados_2023/dados_2022-1)*100,2)\n"
     ]
    }
   ],
   "source": [
    "df_regioes_volume[('volume(hm³)', 'pct_change_2022_2023')] = round((dados_2023/dados_2022-1)*100,2)"
   ]
  },
  {
   "cell_type": "code",
   "execution_count": 17,
   "metadata": {
    "colab": {
     "base_uri": "https://localhost:8080/",
     "height": 488
    },
    "executionInfo": {
     "elapsed": 25,
     "status": "ok",
     "timestamp": 1685146935368,
     "user": {
      "displayName": "Gabriela Custódio",
      "userId": "17879241500396315997"
     },
     "user_tz": 180
    },
    "id": "h5MFGdlumMid",
    "outputId": "547c88ad-afa8-4c67-ad31-09ff4c267c3c"
   },
   "outputs": [
    {
     "data": {
      "text/html": [
       "<div>\n",
       "<style scoped>\n",
       "    .dataframe tbody tr th:only-of-type {\n",
       "        vertical-align: middle;\n",
       "    }\n",
       "\n",
       "    .dataframe tbody tr th {\n",
       "        vertical-align: top;\n",
       "    }\n",
       "\n",
       "    .dataframe thead tr th {\n",
       "        text-align: left;\n",
       "    }\n",
       "\n",
       "    .dataframe thead tr:last-of-type th {\n",
       "        text-align: right;\n",
       "    }\n",
       "</style>\n",
       "<table border=\"1\" class=\"dataframe\">\n",
       "  <thead>\n",
       "    <tr>\n",
       "      <th></th>\n",
       "      <th colspan=\"3\" halign=\"left\">volume(hm³)</th>\n",
       "    </tr>\n",
       "    <tr>\n",
       "      <th>data</th>\n",
       "      <th>26/05/2022</th>\n",
       "      <th>26/05/2023</th>\n",
       "      <th>pct_change_2022_2023</th>\n",
       "    </tr>\n",
       "    <tr>\n",
       "      <th>regiao</th>\n",
       "      <th></th>\n",
       "      <th></th>\n",
       "      <th></th>\n",
       "    </tr>\n",
       "  </thead>\n",
       "  <tbody>\n",
       "    <tr>\n",
       "      <th>Acaraú</th>\n",
       "      <td>1469.634229</td>\n",
       "      <td>1596.796148</td>\n",
       "      <td>8.65</td>\n",
       "    </tr>\n",
       "    <tr>\n",
       "      <th>Alto Jaguaribe</th>\n",
       "      <td>1353.620472</td>\n",
       "      <td>1808.898094</td>\n",
       "      <td>33.63</td>\n",
       "    </tr>\n",
       "    <tr>\n",
       "      <th>Baixo Jaguaribe</th>\n",
       "      <td>22.720279</td>\n",
       "      <td>25.050893</td>\n",
       "      <td>10.26</td>\n",
       "    </tr>\n",
       "    <tr>\n",
       "      <th>Banabuiú</th>\n",
       "      <td>262.642798</td>\n",
       "      <td>1114.025996</td>\n",
       "      <td>324.16</td>\n",
       "    </tr>\n",
       "    <tr>\n",
       "      <th>Coreaú</th>\n",
       "      <td>284.747315</td>\n",
       "      <td>293.214496</td>\n",
       "      <td>2.97</td>\n",
       "    </tr>\n",
       "    <tr>\n",
       "      <th>Curu</th>\n",
       "      <td>222.732918</td>\n",
       "      <td>398.884159</td>\n",
       "      <td>79.09</td>\n",
       "    </tr>\n",
       "    <tr>\n",
       "      <th>Litoral</th>\n",
       "      <td>159.134926</td>\n",
       "      <td>202.791674</td>\n",
       "      <td>27.43</td>\n",
       "    </tr>\n",
       "    <tr>\n",
       "      <th>Metropolitana</th>\n",
       "      <td>1187.040592</td>\n",
       "      <td>1197.841921</td>\n",
       "      <td>0.91</td>\n",
       "    </tr>\n",
       "    <tr>\n",
       "      <th>Médio Jaguaribe</th>\n",
       "      <td>1647.980818</td>\n",
       "      <td>2317.707082</td>\n",
       "      <td>40.64</td>\n",
       "    </tr>\n",
       "    <tr>\n",
       "      <th>Salgado</th>\n",
       "      <td>262.359754</td>\n",
       "      <td>307.020104</td>\n",
       "      <td>17.02</td>\n",
       "    </tr>\n",
       "    <tr>\n",
       "      <th>Serra da Ibiapaba</th>\n",
       "      <td>85.283408</td>\n",
       "      <td>101.682275</td>\n",
       "      <td>19.23</td>\n",
       "    </tr>\n",
       "    <tr>\n",
       "      <th>Sertões de Crateús</th>\n",
       "      <td>87.872622</td>\n",
       "      <td>129.988623</td>\n",
       "      <td>47.93</td>\n",
       "    </tr>\n",
       "  </tbody>\n",
       "</table>\n",
       "</div>"
      ],
      "text/plain": [
       "                    volume(hm³)                                  \n",
       "data                 26/05/2022   26/05/2023 pct_change_2022_2023\n",
       "regiao                                                           \n",
       "Acaraú              1469.634229  1596.796148                 8.65\n",
       "Alto Jaguaribe      1353.620472  1808.898094                33.63\n",
       "Baixo Jaguaribe       22.720279    25.050893                10.26\n",
       "Banabuiú             262.642798  1114.025996               324.16\n",
       "Coreaú               284.747315   293.214496                 2.97\n",
       "Curu                 222.732918   398.884159                79.09\n",
       "Litoral              159.134926   202.791674                27.43\n",
       "Metropolitana       1187.040592  1197.841921                 0.91\n",
       "Médio Jaguaribe     1647.980818  2317.707082                40.64\n",
       "Salgado              262.359754   307.020104                17.02\n",
       "Serra da Ibiapaba     85.283408   101.682275                19.23\n",
       "Sertões de Crateús    87.872622   129.988623                47.93"
      ]
     },
     "execution_count": 17,
     "metadata": {},
     "output_type": "execute_result"
    }
   ],
   "source": [
    "df_regioes_volume"
   ]
  },
  {
   "cell_type": "code",
   "execution_count": 18,
   "metadata": {
    "colab": {
     "base_uri": "https://localhost:8080/",
     "height": 112
    },
    "executionInfo": {
     "elapsed": 25,
     "status": "ok",
     "timestamp": 1685146935369,
     "user": {
      "displayName": "Gabriela Custódio",
      "userId": "17879241500396315997"
     },
     "user_tz": 180
    },
    "id": "2fPs5cAXmku9",
    "outputId": "c50547b9-fb61-4126-aad7-86d31774ce18"
   },
   "outputs": [
    {
     "data": {
      "text/html": [
       "<div>\n",
       "<style scoped>\n",
       "    .dataframe tbody tr th:only-of-type {\n",
       "        vertical-align: middle;\n",
       "    }\n",
       "\n",
       "    .dataframe tbody tr th {\n",
       "        vertical-align: top;\n",
       "    }\n",
       "\n",
       "    .dataframe thead tr th {\n",
       "        text-align: left;\n",
       "    }\n",
       "\n",
       "    .dataframe thead tr:last-of-type th {\n",
       "        text-align: right;\n",
       "    }\n",
       "</style>\n",
       "<table border=\"1\" class=\"dataframe\">\n",
       "  <thead>\n",
       "    <tr>\n",
       "      <th></th>\n",
       "      <th colspan=\"3\" halign=\"left\">volume(hm³)</th>\n",
       "    </tr>\n",
       "    <tr>\n",
       "      <th>data</th>\n",
       "      <th>26/05/2022</th>\n",
       "      <th>26/05/2023</th>\n",
       "      <th>pct_change_2022_2023</th>\n",
       "    </tr>\n",
       "    <tr>\n",
       "      <th>regiao</th>\n",
       "      <th></th>\n",
       "      <th></th>\n",
       "      <th></th>\n",
       "    </tr>\n",
       "  </thead>\n",
       "  <tbody>\n",
       "  </tbody>\n",
       "</table>\n",
       "</div>"
      ],
      "text/plain": [
       "Empty DataFrame\n",
       "Columns: [(volume(hm³), 26/05/2022), (volume(hm³), 26/05/2023), (volume(hm³), pct_change_2022_2023)]\n",
       "Index: []"
      ]
     },
     "execution_count": 18,
     "metadata": {},
     "output_type": "execute_result"
    }
   ],
   "source": [
    "# Todas as regiões estão com maior volume em relação ao mesmo período do ano passado\n",
    "\n",
    "df_regioes_volume[df_regioes_volume.apply(lambda x : x[('volume(hm³)', '26/05/2023')] < x[('volume(hm³)', '26/05/2022')], axis=1)]"
   ]
  },
  {
   "cell_type": "code",
   "execution_count": 19,
   "metadata": {
    "id": "1SA5pxdssJPI"
   },
   "outputs": [],
   "source": [
    "df_regioes_volume = df_regioes_volume.reset_index()\n",
    "df_regioes_volume.columns = df_regioes_volume.columns.droplevel(0)"
   ]
  },
  {
   "cell_type": "code",
   "execution_count": 20,
   "metadata": {
    "id": "Pq8dKebMp0OY"
   },
   "outputs": [],
   "source": [
    "df_regioes_volume = df_regioes_volume.rename(columns={'': 'regiões'})"
   ]
  },
  {
   "cell_type": "code",
   "execution_count": 21,
   "metadata": {
    "colab": {
     "base_uri": "https://localhost:8080/",
     "height": 426
    },
    "executionInfo": {
     "elapsed": 442,
     "status": "ok",
     "timestamp": 1685146935787,
     "user": {
      "displayName": "Gabriela Custódio",
      "userId": "17879241500396315997"
     },
     "user_tz": 180
    },
    "id": "D2_RWh_SyTw2",
    "outputId": "b403dc7b-8223-4c10-96c8-52a5ae8ea486"
   },
   "outputs": [
    {
     "data": {
      "text/html": [
       "<div>\n",
       "<style scoped>\n",
       "    .dataframe tbody tr th:only-of-type {\n",
       "        vertical-align: middle;\n",
       "    }\n",
       "\n",
       "    .dataframe tbody tr th {\n",
       "        vertical-align: top;\n",
       "    }\n",
       "\n",
       "    .dataframe thead th {\n",
       "        text-align: right;\n",
       "    }\n",
       "</style>\n",
       "<table border=\"1\" class=\"dataframe\">\n",
       "  <thead>\n",
       "    <tr style=\"text-align: right;\">\n",
       "      <th>data</th>\n",
       "      <th>regiões</th>\n",
       "      <th>26/05/2022</th>\n",
       "      <th>26/05/2023</th>\n",
       "      <th>pct_change_2022_2023</th>\n",
       "    </tr>\n",
       "  </thead>\n",
       "  <tbody>\n",
       "    <tr>\n",
       "      <th>0</th>\n",
       "      <td>Acaraú</td>\n",
       "      <td>1469.634229</td>\n",
       "      <td>1596.796148</td>\n",
       "      <td>8.65</td>\n",
       "    </tr>\n",
       "    <tr>\n",
       "      <th>1</th>\n",
       "      <td>Alto Jaguaribe</td>\n",
       "      <td>1353.620472</td>\n",
       "      <td>1808.898094</td>\n",
       "      <td>33.63</td>\n",
       "    </tr>\n",
       "    <tr>\n",
       "      <th>2</th>\n",
       "      <td>Baixo Jaguaribe</td>\n",
       "      <td>22.720279</td>\n",
       "      <td>25.050893</td>\n",
       "      <td>10.26</td>\n",
       "    </tr>\n",
       "    <tr>\n",
       "      <th>3</th>\n",
       "      <td>Banabuiú</td>\n",
       "      <td>262.642798</td>\n",
       "      <td>1114.025996</td>\n",
       "      <td>324.16</td>\n",
       "    </tr>\n",
       "    <tr>\n",
       "      <th>4</th>\n",
       "      <td>Coreaú</td>\n",
       "      <td>284.747315</td>\n",
       "      <td>293.214496</td>\n",
       "      <td>2.97</td>\n",
       "    </tr>\n",
       "    <tr>\n",
       "      <th>5</th>\n",
       "      <td>Curu</td>\n",
       "      <td>222.732918</td>\n",
       "      <td>398.884159</td>\n",
       "      <td>79.09</td>\n",
       "    </tr>\n",
       "    <tr>\n",
       "      <th>6</th>\n",
       "      <td>Litoral</td>\n",
       "      <td>159.134926</td>\n",
       "      <td>202.791674</td>\n",
       "      <td>27.43</td>\n",
       "    </tr>\n",
       "    <tr>\n",
       "      <th>7</th>\n",
       "      <td>Metropolitana</td>\n",
       "      <td>1187.040592</td>\n",
       "      <td>1197.841921</td>\n",
       "      <td>0.91</td>\n",
       "    </tr>\n",
       "    <tr>\n",
       "      <th>8</th>\n",
       "      <td>Médio Jaguaribe</td>\n",
       "      <td>1647.980818</td>\n",
       "      <td>2317.707082</td>\n",
       "      <td>40.64</td>\n",
       "    </tr>\n",
       "    <tr>\n",
       "      <th>9</th>\n",
       "      <td>Salgado</td>\n",
       "      <td>262.359754</td>\n",
       "      <td>307.020104</td>\n",
       "      <td>17.02</td>\n",
       "    </tr>\n",
       "    <tr>\n",
       "      <th>10</th>\n",
       "      <td>Serra da Ibiapaba</td>\n",
       "      <td>85.283408</td>\n",
       "      <td>101.682275</td>\n",
       "      <td>19.23</td>\n",
       "    </tr>\n",
       "    <tr>\n",
       "      <th>11</th>\n",
       "      <td>Sertões de Crateús</td>\n",
       "      <td>87.872622</td>\n",
       "      <td>129.988623</td>\n",
       "      <td>47.93</td>\n",
       "    </tr>\n",
       "  </tbody>\n",
       "</table>\n",
       "</div>"
      ],
      "text/plain": [
       "data             regiões   26/05/2022   26/05/2023  pct_change_2022_2023\n",
       "0                 Acaraú  1469.634229  1596.796148                  8.65\n",
       "1         Alto Jaguaribe  1353.620472  1808.898094                 33.63\n",
       "2        Baixo Jaguaribe    22.720279    25.050893                 10.26\n",
       "3               Banabuiú   262.642798  1114.025996                324.16\n",
       "4                 Coreaú   284.747315   293.214496                  2.97\n",
       "5                   Curu   222.732918   398.884159                 79.09\n",
       "6                Litoral   159.134926   202.791674                 27.43\n",
       "7          Metropolitana  1187.040592  1197.841921                  0.91\n",
       "8        Médio Jaguaribe  1647.980818  2317.707082                 40.64\n",
       "9                Salgado   262.359754   307.020104                 17.02\n",
       "10     Serra da Ibiapaba    85.283408   101.682275                 19.23\n",
       "11    Sertões de Crateús    87.872622   129.988623                 47.93"
      ]
     },
     "execution_count": 21,
     "metadata": {},
     "output_type": "execute_result"
    }
   ],
   "source": [
    "df_regioes_volume"
   ]
  },
  {
   "cell_type": "code",
   "execution_count": 22,
   "metadata": {
    "id": "rZUktlKVyhyn"
   },
   "outputs": [],
   "source": [
    "# Coletar informações sobre todas as bacias hidrográficas a partir da API da Funceme em determinado dia\n",
    "url = 'https://apil5.funceme.br/rpc/v1/regiao-nivel?regiao=&data=2023-05-26'\n",
    "df = pd.read_json(url)"
   ]
  },
  {
   "cell_type": "code",
   "execution_count": 23,
   "metadata": {
    "id": "AmjeKTDuyh0u"
   },
   "outputs": [],
   "source": [
    "dados_acudes = df['data']['list']"
   ]
  },
  {
   "cell_type": "code",
   "execution_count": 24,
   "metadata": {
    "colab": {
     "base_uri": "https://localhost:8080/",
     "height": 426
    },
    "executionInfo": {
     "elapsed": 16,
     "status": "ok",
     "timestamp": 1685146941732,
     "user": {
      "displayName": "Gabriela Custódio",
      "userId": "17879241500396315997"
     },
     "user_tz": 180
    },
    "id": "_QNkf-F8yTzG",
    "outputId": "676c4b5f-c2bb-4a1c-a163-9f4f9e007e3b"
   },
   "outputs": [
    {
     "data": {
      "text/html": [
       "<div>\n",
       "<style scoped>\n",
       "    .dataframe tbody tr th:only-of-type {\n",
       "        vertical-align: middle;\n",
       "    }\n",
       "\n",
       "    .dataframe tbody tr th {\n",
       "        vertical-align: top;\n",
       "    }\n",
       "\n",
       "    .dataframe thead th {\n",
       "        text-align: right;\n",
       "    }\n",
       "</style>\n",
       "<table border=\"1\" class=\"dataframe\">\n",
       "  <thead>\n",
       "    <tr style=\"text-align: right;\">\n",
       "      <th></th>\n",
       "      <th>nome</th>\n",
       "      <th>id</th>\n",
       "      <th>num_reservatorios</th>\n",
       "      <th>capacidade</th>\n",
       "      <th>nivel</th>\n",
       "      <th>volume</th>\n",
       "      <th>volume_dia1</th>\n",
       "      <th>vol_perc</th>\n",
       "      <th>total_vert</th>\n",
       "    </tr>\n",
       "  </thead>\n",
       "  <tbody>\n",
       "    <tr>\n",
       "      <th>0</th>\n",
       "      <td>Metropolitana</td>\n",
       "      <td>9</td>\n",
       "      <td>23</td>\n",
       "      <td>1450.911304</td>\n",
       "      <td>3273.20</td>\n",
       "      <td>1198.070764</td>\n",
       "      <td>1201.897487</td>\n",
       "      <td>82.573674</td>\n",
       "      <td>11</td>\n",
       "    </tr>\n",
       "    <tr>\n",
       "      <th>1</th>\n",
       "      <td>Acaraú</td>\n",
       "      <td>1</td>\n",
       "      <td>15</td>\n",
       "      <td>1707.765412</td>\n",
       "      <td>2582.55</td>\n",
       "      <td>1597.144965</td>\n",
       "      <td>1596.700164</td>\n",
       "      <td>93.522503</td>\n",
       "      <td>5</td>\n",
       "    </tr>\n",
       "    <tr>\n",
       "      <th>2</th>\n",
       "      <td>Litoral</td>\n",
       "      <td>7</td>\n",
       "      <td>10</td>\n",
       "      <td>206.050874</td>\n",
       "      <td>919.38</td>\n",
       "      <td>202.851874</td>\n",
       "      <td>203.440474</td>\n",
       "      <td>98.447471</td>\n",
       "      <td>7</td>\n",
       "    </tr>\n",
       "    <tr>\n",
       "      <th>3</th>\n",
       "      <td>Alto Jaguaribe</td>\n",
       "      <td>2</td>\n",
       "      <td>24</td>\n",
       "      <td>2765.668616</td>\n",
       "      <td>7529.47</td>\n",
       "      <td>1809.162403</td>\n",
       "      <td>1741.002674</td>\n",
       "      <td>65.415010</td>\n",
       "      <td>6</td>\n",
       "    </tr>\n",
       "    <tr>\n",
       "      <th>4</th>\n",
       "      <td>Curu</td>\n",
       "      <td>6</td>\n",
       "      <td>14</td>\n",
       "      <td>1056.167055</td>\n",
       "      <td>2486.04</td>\n",
       "      <td>399.184484</td>\n",
       "      <td>381.079498</td>\n",
       "      <td>37.795582</td>\n",
       "      <td>2</td>\n",
       "    </tr>\n",
       "    <tr>\n",
       "      <th>5</th>\n",
       "      <td>Banabuiú</td>\n",
       "      <td>4</td>\n",
       "      <td>19</td>\n",
       "      <td>2674.598871</td>\n",
       "      <td>3827.33</td>\n",
       "      <td>1113.341498</td>\n",
       "      <td>1069.740724</td>\n",
       "      <td>41.626485</td>\n",
       "      <td>6</td>\n",
       "    </tr>\n",
       "    <tr>\n",
       "      <th>6</th>\n",
       "      <td>Sertões de Crateús</td>\n",
       "      <td>10</td>\n",
       "      <td>10</td>\n",
       "      <td>411.976468</td>\n",
       "      <td>2270.70</td>\n",
       "      <td>130.134257</td>\n",
       "      <td>134.543585</td>\n",
       "      <td>31.587789</td>\n",
       "      <td>0</td>\n",
       "    </tr>\n",
       "    <tr>\n",
       "      <th>7</th>\n",
       "      <td>Salgado</td>\n",
       "      <td>11</td>\n",
       "      <td>15</td>\n",
       "      <td>447.661833</td>\n",
       "      <td>4977.29</td>\n",
       "      <td>307.321421</td>\n",
       "      <td>301.668528</td>\n",
       "      <td>68.650351</td>\n",
       "      <td>3</td>\n",
       "    </tr>\n",
       "    <tr>\n",
       "      <th>8</th>\n",
       "      <td>Baixo Jaguaribe</td>\n",
       "      <td>3</td>\n",
       "      <td>1</td>\n",
       "      <td>25.050893</td>\n",
       "      <td>109.28</td>\n",
       "      <td>25.050893</td>\n",
       "      <td>25.050893</td>\n",
       "      <td>100.000000</td>\n",
       "      <td>1</td>\n",
       "    </tr>\n",
       "    <tr>\n",
       "      <th>9</th>\n",
       "      <td>Coreaú</td>\n",
       "      <td>5</td>\n",
       "      <td>10</td>\n",
       "      <td>299.427338</td>\n",
       "      <td>833.89</td>\n",
       "      <td>293.277196</td>\n",
       "      <td>284.990023</td>\n",
       "      <td>97.946032</td>\n",
       "      <td>5</td>\n",
       "    </tr>\n",
       "    <tr>\n",
       "      <th>10</th>\n",
       "      <td>Médio Jaguaribe</td>\n",
       "      <td>8</td>\n",
       "      <td>15</td>\n",
       "      <td>7373.993000</td>\n",
       "      <td>1325.27</td>\n",
       "      <td>2317.811761</td>\n",
       "      <td>2278.480687</td>\n",
       "      <td>31.432248</td>\n",
       "      <td>2</td>\n",
       "    </tr>\n",
       "    <tr>\n",
       "      <th>11</th>\n",
       "      <td>Serra da Ibiapaba</td>\n",
       "      <td>12</td>\n",
       "      <td>1</td>\n",
       "      <td>140.325089</td>\n",
       "      <td>712.39</td>\n",
       "      <td>101.682275</td>\n",
       "      <td>98.710434</td>\n",
       "      <td>72.461935</td>\n",
       "      <td>0</td>\n",
       "    </tr>\n",
       "  </tbody>\n",
       "</table>\n",
       "</div>"
      ],
      "text/plain": [
       "                  nome  id  num_reservatorios   capacidade    nivel  \\\n",
       "0        Metropolitana   9                 23  1450.911304  3273.20   \n",
       "1               Acaraú   1                 15  1707.765412  2582.55   \n",
       "2              Litoral   7                 10   206.050874   919.38   \n",
       "3       Alto Jaguaribe   2                 24  2765.668616  7529.47   \n",
       "4                 Curu   6                 14  1056.167055  2486.04   \n",
       "5             Banabuiú   4                 19  2674.598871  3827.33   \n",
       "6   Sertões de Crateús  10                 10   411.976468  2270.70   \n",
       "7              Salgado  11                 15   447.661833  4977.29   \n",
       "8      Baixo Jaguaribe   3                  1    25.050893   109.28   \n",
       "9               Coreaú   5                 10   299.427338   833.89   \n",
       "10     Médio Jaguaribe   8                 15  7373.993000  1325.27   \n",
       "11   Serra da Ibiapaba  12                  1   140.325089   712.39   \n",
       "\n",
       "         volume  volume_dia1    vol_perc  total_vert  \n",
       "0   1198.070764  1201.897487   82.573674          11  \n",
       "1   1597.144965  1596.700164   93.522503           5  \n",
       "2    202.851874   203.440474   98.447471           7  \n",
       "3   1809.162403  1741.002674   65.415010           6  \n",
       "4    399.184484   381.079498   37.795582           2  \n",
       "5   1113.341498  1069.740724   41.626485           6  \n",
       "6    130.134257   134.543585   31.587789           0  \n",
       "7    307.321421   301.668528   68.650351           3  \n",
       "8     25.050893    25.050893  100.000000           1  \n",
       "9    293.277196   284.990023   97.946032           5  \n",
       "10  2317.811761  2278.480687   31.432248           2  \n",
       "11   101.682275    98.710434   72.461935           0  "
      ]
     },
     "execution_count": 24,
     "metadata": {},
     "output_type": "execute_result"
    }
   ],
   "source": [
    "df_acudes_dia = pd.DataFrame.from_records(dados_acudes)\n",
    "df_acudes_dia"
   ]
  },
  {
   "cell_type": "code",
   "execution_count": 25,
   "metadata": {
    "id": "fU9t0cBhy1wo"
   },
   "outputs": [],
   "source": [
    "df_acudes_dia = df_acudes_dia[['nome', 'num_reservatorios', 'vol_perc']]"
   ]
  },
  {
   "cell_type": "code",
   "execution_count": 28,
   "metadata": {
    "id": "fNpQNv4gznQT"
   },
   "outputs": [],
   "source": [
    "df_regioes_perc_volume = df_regioes_volume.merge(df_acudes_dia, left_on='regiões', right_on='nome')"
   ]
  },
  {
   "cell_type": "code",
   "execution_count": 33,
   "metadata": {},
   "outputs": [
    {
     "data": {
      "text/html": [
       "<div>\n",
       "<style scoped>\n",
       "    .dataframe tbody tr th:only-of-type {\n",
       "        vertical-align: middle;\n",
       "    }\n",
       "\n",
       "    .dataframe tbody tr th {\n",
       "        vertical-align: top;\n",
       "    }\n",
       "\n",
       "    .dataframe thead th {\n",
       "        text-align: right;\n",
       "    }\n",
       "</style>\n",
       "<table border=\"1\" class=\"dataframe\">\n",
       "  <thead>\n",
       "    <tr style=\"text-align: right;\">\n",
       "      <th>data</th>\n",
       "      <th>regiões</th>\n",
       "      <th>26/05/2022</th>\n",
       "      <th>26/05/2023</th>\n",
       "      <th>pct_change_2022_2023</th>\n",
       "    </tr>\n",
       "  </thead>\n",
       "  <tbody>\n",
       "    <tr>\n",
       "      <th>3</th>\n",
       "      <td>Banabuiú</td>\n",
       "      <td>262.642798</td>\n",
       "      <td>1114.025996</td>\n",
       "      <td>324.16</td>\n",
       "    </tr>\n",
       "    <tr>\n",
       "      <th>5</th>\n",
       "      <td>Curu</td>\n",
       "      <td>222.732918</td>\n",
       "      <td>398.884159</td>\n",
       "      <td>79.09</td>\n",
       "    </tr>\n",
       "    <tr>\n",
       "      <th>11</th>\n",
       "      <td>Sertões de Crateús</td>\n",
       "      <td>87.872622</td>\n",
       "      <td>129.988623</td>\n",
       "      <td>47.93</td>\n",
       "    </tr>\n",
       "    <tr>\n",
       "      <th>8</th>\n",
       "      <td>Médio Jaguaribe</td>\n",
       "      <td>1647.980818</td>\n",
       "      <td>2317.707082</td>\n",
       "      <td>40.64</td>\n",
       "    </tr>\n",
       "    <tr>\n",
       "      <th>1</th>\n",
       "      <td>Alto Jaguaribe</td>\n",
       "      <td>1353.620472</td>\n",
       "      <td>1808.898094</td>\n",
       "      <td>33.63</td>\n",
       "    </tr>\n",
       "    <tr>\n",
       "      <th>6</th>\n",
       "      <td>Litoral</td>\n",
       "      <td>159.134926</td>\n",
       "      <td>202.791674</td>\n",
       "      <td>27.43</td>\n",
       "    </tr>\n",
       "    <tr>\n",
       "      <th>10</th>\n",
       "      <td>Serra da Ibiapaba</td>\n",
       "      <td>85.283408</td>\n",
       "      <td>101.682275</td>\n",
       "      <td>19.23</td>\n",
       "    </tr>\n",
       "    <tr>\n",
       "      <th>9</th>\n",
       "      <td>Salgado</td>\n",
       "      <td>262.359754</td>\n",
       "      <td>307.020104</td>\n",
       "      <td>17.02</td>\n",
       "    </tr>\n",
       "    <tr>\n",
       "      <th>2</th>\n",
       "      <td>Baixo Jaguaribe</td>\n",
       "      <td>22.720279</td>\n",
       "      <td>25.050893</td>\n",
       "      <td>10.26</td>\n",
       "    </tr>\n",
       "    <tr>\n",
       "      <th>0</th>\n",
       "      <td>Acaraú</td>\n",
       "      <td>1469.634229</td>\n",
       "      <td>1596.796148</td>\n",
       "      <td>8.65</td>\n",
       "    </tr>\n",
       "    <tr>\n",
       "      <th>4</th>\n",
       "      <td>Coreaú</td>\n",
       "      <td>284.747315</td>\n",
       "      <td>293.214496</td>\n",
       "      <td>2.97</td>\n",
       "    </tr>\n",
       "    <tr>\n",
       "      <th>7</th>\n",
       "      <td>Metropolitana</td>\n",
       "      <td>1187.040592</td>\n",
       "      <td>1197.841921</td>\n",
       "      <td>0.91</td>\n",
       "    </tr>\n",
       "  </tbody>\n",
       "</table>\n",
       "</div>"
      ],
      "text/plain": [
       "data             regiões   26/05/2022   26/05/2023  pct_change_2022_2023\n",
       "3               Banabuiú   262.642798  1114.025996                324.16\n",
       "5                   Curu   222.732918   398.884159                 79.09\n",
       "11    Sertões de Crateús    87.872622   129.988623                 47.93\n",
       "8        Médio Jaguaribe  1647.980818  2317.707082                 40.64\n",
       "1         Alto Jaguaribe  1353.620472  1808.898094                 33.63\n",
       "6                Litoral   159.134926   202.791674                 27.43\n",
       "10     Serra da Ibiapaba    85.283408   101.682275                 19.23\n",
       "9                Salgado   262.359754   307.020104                 17.02\n",
       "2        Baixo Jaguaribe    22.720279    25.050893                 10.26\n",
       "0                 Acaraú  1469.634229  1596.796148                  8.65\n",
       "4                 Coreaú   284.747315   293.214496                  2.97\n",
       "7          Metropolitana  1187.040592  1197.841921                  0.91"
      ]
     },
     "execution_count": 33,
     "metadata": {},
     "output_type": "execute_result"
    }
   ],
   "source": [
    "# A Bacia do Banabuiú destacou-se com aumento de 324% do volume em um ano.\n",
    "# Porém, para variação tão alta, é importante ver qual o percentual que ela tinha naquela época \n",
    "# e comparar com o volume da Badia Metropolitanas, por exemplo, que foi a que variou menos \n",
    "\n",
    "df_regioes_volume.sort_values('pct_change_2022_2023', ascending=False)"
   ]
  },
  {
   "cell_type": "code",
   "execution_count": 34,
   "metadata": {
    "id": "X3yyfucICWRw"
   },
   "outputs": [],
   "source": [
    "df_regioes_perc_volume['vol_perc'] = df_regioes_perc_volume['vol_perc'].apply(lambda x: round(x,2))"
   ]
  },
  {
   "cell_type": "code",
   "execution_count": 36,
   "metadata": {
    "id": "4b2AKNJWrWyD"
   },
   "outputs": [],
   "source": [
    "df_regioes_perc_volume.to_csv('df_regioes_perc_volume.csv', index=False)"
   ]
  },
  {
   "cell_type": "markdown",
   "metadata": {
    "id": "QBvz5f1jZqMO"
   },
   "source": [
    "### Análise das bacias"
   ]
  },
  {
   "cell_type": "code",
   "execution_count": 37,
   "metadata": {
    "id": "mrb60uhtawzm"
   },
   "outputs": [],
   "source": [
    "df_regioes['data'] = pd.to_datetime(df_regioes['data'], format=\"%d/%m/%Y\")"
   ]
  },
  {
   "cell_type": "code",
   "execution_count": 38,
   "metadata": {
    "id": "mSuXFdprWcFK"
   },
   "outputs": [],
   "source": [
    "# Banabuiú\n",
    "\n",
    "df_banabuiu = df_regioes[df_regioes['regiao'] == 'Banabuiú']\n",
    "df_vol_banabuiu = df_banabuiu[['data', 'volume(%)']]"
   ]
  },
  {
   "cell_type": "code",
   "execution_count": 39,
   "metadata": {
    "id": "tvoSQuiGWddY"
   },
   "outputs": [],
   "source": [
    "df_vol_banabuiu_ate_marco_2023 = df_vol_banabuiu[df_vol_banabuiu['data'] < '2023-03-01']"
   ]
  },
  {
   "cell_type": "code",
   "execution_count": 40,
   "metadata": {
    "colab": {
     "base_uri": "https://localhost:8080/",
     "height": 300
    },
    "executionInfo": {
     "elapsed": 4,
     "status": "ok",
     "timestamp": 1685146952283,
     "user": {
      "displayName": "Gabriela Custódio",
      "userId": "17879241500396315997"
     },
     "user_tz": 180
    },
    "id": "KEVF7ybaZcU3",
    "outputId": "93049fa9-45f4-4f78-87a0-9f2e391a7de2"
   },
   "outputs": [
    {
     "data": {
      "text/html": [
       "<div>\n",
       "<style scoped>\n",
       "    .dataframe tbody tr th:only-of-type {\n",
       "        vertical-align: middle;\n",
       "    }\n",
       "\n",
       "    .dataframe tbody tr th {\n",
       "        vertical-align: top;\n",
       "    }\n",
       "\n",
       "    .dataframe thead th {\n",
       "        text-align: right;\n",
       "    }\n",
       "</style>\n",
       "<table border=\"1\" class=\"dataframe\">\n",
       "  <thead>\n",
       "    <tr style=\"text-align: right;\">\n",
       "      <th></th>\n",
       "      <th>volume(%)</th>\n",
       "    </tr>\n",
       "  </thead>\n",
       "  <tbody>\n",
       "    <tr>\n",
       "      <th>count</th>\n",
       "      <td>279.000000</td>\n",
       "    </tr>\n",
       "    <tr>\n",
       "      <th>mean</th>\n",
       "      <td>10.782418</td>\n",
       "    </tr>\n",
       "    <tr>\n",
       "      <th>std</th>\n",
       "      <td>0.846378</td>\n",
       "    </tr>\n",
       "    <tr>\n",
       "      <th>min</th>\n",
       "      <td>9.529055</td>\n",
       "    </tr>\n",
       "    <tr>\n",
       "      <th>25%</th>\n",
       "      <td>10.027920</td>\n",
       "    </tr>\n",
       "    <tr>\n",
       "      <th>50%</th>\n",
       "      <td>10.565834</td>\n",
       "    </tr>\n",
       "    <tr>\n",
       "      <th>75%</th>\n",
       "      <td>11.675922</td>\n",
       "    </tr>\n",
       "    <tr>\n",
       "      <th>max</th>\n",
       "      <td>12.078292</td>\n",
       "    </tr>\n",
       "  </tbody>\n",
       "</table>\n",
       "</div>"
      ],
      "text/plain": [
       "        volume(%)\n",
       "count  279.000000\n",
       "mean    10.782418\n",
       "std      0.846378\n",
       "min      9.529055\n",
       "25%     10.027920\n",
       "50%     10.565834\n",
       "75%     11.675922\n",
       "max     12.078292"
      ]
     },
     "execution_count": 40,
     "metadata": {},
     "output_type": "execute_result"
    }
   ],
   "source": [
    "df_vol_banabuiu_ate_marco_2023.describe()"
   ]
  },
  {
   "cell_type": "code",
   "execution_count": 41,
   "metadata": {
    "colab": {
     "base_uri": "https://localhost:8080/"
    },
    "executionInfo": {
     "elapsed": 7,
     "status": "ok",
     "timestamp": 1685146952903,
     "user": {
      "displayName": "Gabriela Custódio",
      "userId": "17879241500396315997"
     },
     "user_tz": 180
    },
    "id": "M3daQKK4XQAa",
    "outputId": "f547aae0-af1d-4ffc-811b-461d7a0829ae"
   },
   "outputs": [
    {
     "data": {
      "text/plain": [
       "10.8"
      ]
     },
     "execution_count": 41,
     "metadata": {},
     "output_type": "execute_result"
    }
   ],
   "source": [
    "# Ao longo do período de maio de 2022 a março de 2023, o volume médio da Bacia do Banabuiú foi de 10,8%\n",
    "round(df_vol_banabuiu_ate_marco_2023['volume(%)'].mean(),1)"
   ]
  },
  {
   "cell_type": "code",
   "execution_count": 42,
   "metadata": {
    "id": "TfahT8vwXofl"
   },
   "outputs": [],
   "source": [
    "df_vol_banabuiu_apos_marco_2023 = df_vol_banabuiu[df_vol_banabuiu['data'] >= '2023-03-01']"
   ]
  },
  {
   "cell_type": "code",
   "execution_count": 43,
   "metadata": {
    "colab": {
     "base_uri": "https://localhost:8080/",
     "height": 300
    },
    "executionInfo": {
     "elapsed": 8,
     "status": "ok",
     "timestamp": 1685146952905,
     "user": {
      "displayName": "Gabriela Custódio",
      "userId": "17879241500396315997"
     },
     "user_tz": 180
    },
    "id": "3O20l-gHYEFQ",
    "outputId": "96390b57-7ebc-4787-f8df-1be5674eb50e"
   },
   "outputs": [
    {
     "data": {
      "text/html": [
       "<div>\n",
       "<style scoped>\n",
       "    .dataframe tbody tr th:only-of-type {\n",
       "        vertical-align: middle;\n",
       "    }\n",
       "\n",
       "    .dataframe tbody tr th {\n",
       "        vertical-align: top;\n",
       "    }\n",
       "\n",
       "    .dataframe thead th {\n",
       "        text-align: right;\n",
       "    }\n",
       "</style>\n",
       "<table border=\"1\" class=\"dataframe\">\n",
       "  <thead>\n",
       "    <tr style=\"text-align: right;\">\n",
       "      <th></th>\n",
       "      <th>volume(%)</th>\n",
       "    </tr>\n",
       "  </thead>\n",
       "  <tbody>\n",
       "    <tr>\n",
       "      <th>count</th>\n",
       "      <td>87.000000</td>\n",
       "    </tr>\n",
       "    <tr>\n",
       "      <th>mean</th>\n",
       "      <td>28.833968</td>\n",
       "    </tr>\n",
       "    <tr>\n",
       "      <th>std</th>\n",
       "      <td>13.255712</td>\n",
       "    </tr>\n",
       "    <tr>\n",
       "      <th>min</th>\n",
       "      <td>9.506642</td>\n",
       "    </tr>\n",
       "    <tr>\n",
       "      <th>25%</th>\n",
       "      <td>12.968198</td>\n",
       "    </tr>\n",
       "    <tr>\n",
       "      <th>50%</th>\n",
       "      <td>37.114633</td>\n",
       "    </tr>\n",
       "    <tr>\n",
       "      <th>75%</th>\n",
       "      <td>40.750016</td>\n",
       "    </tr>\n",
       "    <tr>\n",
       "      <th>max</th>\n",
       "      <td>41.652078</td>\n",
       "    </tr>\n",
       "  </tbody>\n",
       "</table>\n",
       "</div>"
      ],
      "text/plain": [
       "       volume(%)\n",
       "count  87.000000\n",
       "mean   28.833968\n",
       "std    13.255712\n",
       "min     9.506642\n",
       "25%    12.968198\n",
       "50%    37.114633\n",
       "75%    40.750016\n",
       "max    41.652078"
      ]
     },
     "execution_count": 43,
     "metadata": {},
     "output_type": "execute_result"
    }
   ],
   "source": [
    "df_vol_banabuiu_apos_marco_2023.describe()"
   ]
  },
  {
   "cell_type": "code",
   "execution_count": 45,
   "metadata": {
    "colab": {
     "base_uri": "https://localhost:8080/"
    },
    "executionInfo": {
     "elapsed": 7,
     "status": "ok",
     "timestamp": 1685146952905,
     "user": {
      "displayName": "Gabriela Custódio",
      "userId": "17879241500396315997"
     },
     "user_tz": 180
    },
    "id": "VWn89BluYv2C",
    "outputId": "14e8f3ad-5353-4e3a-a973-f545974e0900"
   },
   "outputs": [
    {
     "data": {
      "text/plain": [
       "41.7"
      ]
     },
     "execution_count": 45,
     "metadata": {},
     "output_type": "execute_result"
    }
   ],
   "source": [
    "# Após março de 2022, o dia em que a Bacia do Banabuiú esteve mais cheia foi justamente o dia mais recente avaliado, 26/05/23\n",
    "round(df_vol_banabuiu_apos_marco_2023['volume(%)'].max(), 1)"
   ]
  },
  {
   "cell_type": "code",
   "execution_count": 46,
   "metadata": {
    "id": "zIC5OdWzZmsn"
   },
   "outputs": [],
   "source": [
    "# metropolitana\n",
    "df_metropolitana = df_regioes[df_regioes['regiao'] == 'Metropolitana']\n",
    "df_vol_metropolitana = df_metropolitana[['data', 'volume(%)']]"
   ]
  },
  {
   "cell_type": "code",
   "execution_count": 47,
   "metadata": {
    "colab": {
     "base_uri": "https://localhost:8080/",
     "height": 424
    },
    "executionInfo": {
     "elapsed": 6,
     "status": "ok",
     "timestamp": 1685146953645,
     "user": {
      "displayName": "Gabriela Custódio",
      "userId": "17879241500396315997"
     },
     "user_tz": 180
    },
    "id": "cOxavQoVa6Q8",
    "outputId": "b38517b6-24fe-4db1-b47b-e4f8d80f889b"
   },
   "outputs": [
    {
     "data": {
      "text/html": [
       "<div>\n",
       "<style scoped>\n",
       "    .dataframe tbody tr th:only-of-type {\n",
       "        vertical-align: middle;\n",
       "    }\n",
       "\n",
       "    .dataframe tbody tr th {\n",
       "        vertical-align: top;\n",
       "    }\n",
       "\n",
       "    .dataframe thead th {\n",
       "        text-align: right;\n",
       "    }\n",
       "</style>\n",
       "<table border=\"1\" class=\"dataframe\">\n",
       "  <thead>\n",
       "    <tr style=\"text-align: right;\">\n",
       "      <th></th>\n",
       "      <th>data</th>\n",
       "      <th>volume(%)</th>\n",
       "    </tr>\n",
       "  </thead>\n",
       "  <tbody>\n",
       "    <tr>\n",
       "      <th>0</th>\n",
       "      <td>2022-05-26</td>\n",
       "      <td>81.813450</td>\n",
       "    </tr>\n",
       "    <tr>\n",
       "      <th>1</th>\n",
       "      <td>2022-05-27</td>\n",
       "      <td>81.864311</td>\n",
       "    </tr>\n",
       "    <tr>\n",
       "      <th>2</th>\n",
       "      <td>2022-05-28</td>\n",
       "      <td>81.861315</td>\n",
       "    </tr>\n",
       "    <tr>\n",
       "      <th>3</th>\n",
       "      <td>2022-05-29</td>\n",
       "      <td>81.989260</td>\n",
       "    </tr>\n",
       "    <tr>\n",
       "      <th>4</th>\n",
       "      <td>2022-05-30</td>\n",
       "      <td>82.109824</td>\n",
       "    </tr>\n",
       "    <tr>\n",
       "      <th>...</th>\n",
       "      <td>...</td>\n",
       "      <td>...</td>\n",
       "    </tr>\n",
       "    <tr>\n",
       "      <th>361</th>\n",
       "      <td>2023-05-22</td>\n",
       "      <td>82.577745</td>\n",
       "    </tr>\n",
       "    <tr>\n",
       "      <th>362</th>\n",
       "      <td>2023-05-23</td>\n",
       "      <td>82.540554</td>\n",
       "    </tr>\n",
       "    <tr>\n",
       "      <th>363</th>\n",
       "      <td>2023-05-24</td>\n",
       "      <td>82.599875</td>\n",
       "    </tr>\n",
       "    <tr>\n",
       "      <th>364</th>\n",
       "      <td>2023-05-25</td>\n",
       "      <td>82.573674</td>\n",
       "    </tr>\n",
       "    <tr>\n",
       "      <th>365</th>\n",
       "      <td>2023-05-26</td>\n",
       "      <td>82.557901</td>\n",
       "    </tr>\n",
       "  </tbody>\n",
       "</table>\n",
       "<p>366 rows × 2 columns</p>\n",
       "</div>"
      ],
      "text/plain": [
       "          data  volume(%)\n",
       "0   2022-05-26  81.813450\n",
       "1   2022-05-27  81.864311\n",
       "2   2022-05-28  81.861315\n",
       "3   2022-05-29  81.989260\n",
       "4   2022-05-30  82.109824\n",
       "..         ...        ...\n",
       "361 2023-05-22  82.577745\n",
       "362 2023-05-23  82.540554\n",
       "363 2023-05-24  82.599875\n",
       "364 2023-05-25  82.573674\n",
       "365 2023-05-26  82.557901\n",
       "\n",
       "[366 rows x 2 columns]"
      ]
     },
     "execution_count": 47,
     "metadata": {},
     "output_type": "execute_result"
    }
   ],
   "source": [
    "df_vol_metropolitana"
   ]
  },
  {
   "cell_type": "code",
   "execution_count": 48,
   "metadata": {
    "id": "DO680cICa6tr"
   },
   "outputs": [],
   "source": [
    "# alto jaguaribe\n",
    "df_alto_jaguaribe = df_regioes[df_regioes['regiao'] == 'Alto Jaguaribe']\n",
    "df_vol_alto_jaguaribe = df_alto_jaguaribe[['data', 'volume(%)']]"
   ]
  },
  {
   "cell_type": "code",
   "execution_count": 49,
   "metadata": {
    "colab": {
     "base_uri": "https://localhost:8080/",
     "height": 424
    },
    "executionInfo": {
     "elapsed": 6,
     "status": "ok",
     "timestamp": 1685146954478,
     "user": {
      "displayName": "Gabriela Custódio",
      "userId": "17879241500396315997"
     },
     "user_tz": 180
    },
    "id": "g_G7OJwIff8M",
    "outputId": "cb18b1db-27c4-49ab-a531-8b5d44582b30"
   },
   "outputs": [
    {
     "data": {
      "text/html": [
       "<div>\n",
       "<style scoped>\n",
       "    .dataframe tbody tr th:only-of-type {\n",
       "        vertical-align: middle;\n",
       "    }\n",
       "\n",
       "    .dataframe tbody tr th {\n",
       "        vertical-align: top;\n",
       "    }\n",
       "\n",
       "    .dataframe thead th {\n",
       "        text-align: right;\n",
       "    }\n",
       "</style>\n",
       "<table border=\"1\" class=\"dataframe\">\n",
       "  <thead>\n",
       "    <tr style=\"text-align: right;\">\n",
       "      <th></th>\n",
       "      <th>data</th>\n",
       "      <th>volume(%)</th>\n",
       "    </tr>\n",
       "  </thead>\n",
       "  <tbody>\n",
       "    <tr>\n",
       "      <th>0</th>\n",
       "      <td>2022-05-26</td>\n",
       "      <td>48.943697</td>\n",
       "    </tr>\n",
       "    <tr>\n",
       "      <th>1</th>\n",
       "      <td>2022-05-27</td>\n",
       "      <td>48.938304</td>\n",
       "    </tr>\n",
       "    <tr>\n",
       "      <th>2</th>\n",
       "      <td>2022-05-28</td>\n",
       "      <td>48.977413</td>\n",
       "    </tr>\n",
       "    <tr>\n",
       "      <th>3</th>\n",
       "      <td>2022-05-29</td>\n",
       "      <td>48.972698</td>\n",
       "    </tr>\n",
       "    <tr>\n",
       "      <th>4</th>\n",
       "      <td>2022-05-30</td>\n",
       "      <td>48.964641</td>\n",
       "    </tr>\n",
       "    <tr>\n",
       "      <th>...</th>\n",
       "      <td>...</td>\n",
       "      <td>...</td>\n",
       "    </tr>\n",
       "    <tr>\n",
       "      <th>361</th>\n",
       "      <td>2023-05-22</td>\n",
       "      <td>65.438839</td>\n",
       "    </tr>\n",
       "    <tr>\n",
       "      <th>362</th>\n",
       "      <td>2023-05-23</td>\n",
       "      <td>65.434957</td>\n",
       "    </tr>\n",
       "    <tr>\n",
       "      <th>363</th>\n",
       "      <td>2023-05-24</td>\n",
       "      <td>65.418850</td>\n",
       "    </tr>\n",
       "    <tr>\n",
       "      <th>364</th>\n",
       "      <td>2023-05-25</td>\n",
       "      <td>65.415010</td>\n",
       "    </tr>\n",
       "    <tr>\n",
       "      <th>365</th>\n",
       "      <td>2023-05-26</td>\n",
       "      <td>65.405453</td>\n",
       "    </tr>\n",
       "  </tbody>\n",
       "</table>\n",
       "<p>366 rows × 2 columns</p>\n",
       "</div>"
      ],
      "text/plain": [
       "          data  volume(%)\n",
       "0   2022-05-26  48.943697\n",
       "1   2022-05-27  48.938304\n",
       "2   2022-05-28  48.977413\n",
       "3   2022-05-29  48.972698\n",
       "4   2022-05-30  48.964641\n",
       "..         ...        ...\n",
       "361 2023-05-22  65.438839\n",
       "362 2023-05-23  65.434957\n",
       "363 2023-05-24  65.418850\n",
       "364 2023-05-25  65.415010\n",
       "365 2023-05-26  65.405453\n",
       "\n",
       "[366 rows x 2 columns]"
      ]
     },
     "execution_count": 49,
     "metadata": {},
     "output_type": "execute_result"
    }
   ],
   "source": [
    "df_vol_alto_jaguaribe"
   ]
  },
  {
   "cell_type": "code",
   "execution_count": 50,
   "metadata": {
    "colab": {
     "base_uri": "https://localhost:8080/"
    },
    "executionInfo": {
     "elapsed": 6,
     "status": "ok",
     "timestamp": 1685146954479,
     "user": {
      "displayName": "Gabriela Custódio",
      "userId": "17879241500396315997"
     },
     "user_tz": 180
    },
    "id": "ymTtNkFCfgws",
    "outputId": "d5c756ca-d170-4d1c-b3f7-c4561628c51c"
   },
   "outputs": [
    {
     "data": {
      "text/plain": [
       "65.4"
      ]
     },
     "execution_count": 50,
     "metadata": {},
     "output_type": "execute_result"
    }
   ],
   "source": [
    "round(df_vol_alto_jaguaribe['volume(%)'].max(), 1)"
   ]
  }
 ],
 "metadata": {
  "colab": {
   "authorship_tag": "ABX9TyOr5JDDIqJMC4SZMUsdxP4j",
   "mount_file_id": "11lFGL74wSEtCYJQayOUyfdtwmSnOWMIB",
   "provenance": []
  },
  "kernelspec": {
   "display_name": "Python 3 (ipykernel)",
   "language": "python",
   "name": "python3"
  },
  "language_info": {
   "codemirror_mode": {
    "name": "ipython",
    "version": 3
   },
   "file_extension": ".py",
   "mimetype": "text/x-python",
   "name": "python",
   "nbconvert_exporter": "python",
   "pygments_lexer": "ipython3",
   "version": "3.9.7"
  }
 },
 "nbformat": 4,
 "nbformat_minor": 1
}
